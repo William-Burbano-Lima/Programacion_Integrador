{
  "nbformat": 4,
  "nbformat_minor": 0,
  "metadata": {
    "colab": {
      "provenance": [],
      "authorship_tag": "ABX9TyPnZSf2rNszq1X4bFN1JgoD",
      "include_colab_link": true
    },
    "kernelspec": {
      "name": "python3",
      "display_name": "Python 3"
    },
    "language_info": {
      "name": "python"
    }
  },
  "cells": [
    {
      "cell_type": "markdown",
      "metadata": {
        "id": "view-in-github",
        "colab_type": "text"
      },
      "source": [
        "<a href=\"https://colab.research.google.com/github/William-Burbano-Lima/Programacion_Integrador/blob/main/Git_y_Github.ipynb\" target=\"_parent\"><img src=\"https://colab.research.google.com/assets/colab-badge.svg\" alt=\"Open In Colab\"/></a>"
      ]
    },
    {
      "cell_type": "code",
      "execution_count": null,
      "metadata": {
        "id": "KMOT3pZG9pCs"
      },
      "outputs": [],
      "source": []
    },
    {
      "cell_type": "markdown",
      "source": [
        "**Talento Tech Programación Integrador**\n",
        "\n",
        "*Ejecutor Técnico: William Burbano Lima*\n",
        "\n",
        "---\n",
        "\n",
        "## **📌 Bootcamp: Fundamentos de Git y GitHub para Programación en Equipo**  \n",
        "**Duración**: 4 horas  \n",
        "**Objetivo**: Comprender y aplicar los fundamentos de Git y GitHub para el trabajo colaborativo en programación.  \n",
        "\n",
        "---\n",
        "\n",
        "### **📝 Módulo 1: Introducción a Git y GitHub (Teoría) - 45 min**  \n",
        "\n",
        "#### **📌 ¿Qué es Git?**\n",
        "- Es un **sistema de control de versiones distribuido**.\n",
        "- Permite gestionar cambios en el código y colaborar en equipo.\n",
        "- Git **rastrea los cambios** y permite volver a versiones anteriores.\n",
        "\n",
        "#### **📌 ¿Qué es GitHub?**\n",
        "- Es una **plataforma basada en la nube** que usa Git para almacenar repositorios.\n",
        "- Facilita la colaboración entre programadores mediante `push`, `pull requests`, y `issues`.\n",
        "- Permite trabajar en proyectos con **ramas (branches)** para desarrollo paralelo.\n",
        "\n",
        "#### **📌 Conceptos Claves en Git**\n",
        "1. **Repositorio (Repo)**: Lugar donde se almacena el código y su historial de cambios.  \n",
        "2. **Commit**: Guarda cambios en el historial con un mensaje descriptivo.  \n",
        "3. **Branch (Rama)**: Versión del código para desarrollo paralelo.  \n",
        "4. **Merge**: Combina los cambios de una rama con otra.  \n",
        "5. **Clone**: Crea una copia local de un repositorio remoto.  \n",
        "6. **Pull y Push**: Descarga (`pull`) y sube (`push`) cambios al repositorio remoto.\n",
        "\n",
        "---\n",
        "\n",
        "### **⚡ Módulo 2: Instalación y Configuración de Git - 30 min**\n",
        "**Paso 1:** Verificar si Git está instalado:  \n",
        "```sh\n",
        "git --version\n",
        "```\n",
        "**Paso 2:** Configurar nombre y correo electrónico en Git:  \n",
        "```sh\n",
        "git config --global user.name \"Tu Nombre\"\n",
        "git config --global user.email \"tuemail@example.com\"\n",
        "```\n",
        "**Paso 3:** Crear un repositorio local y enlazar con GitHub.  \n",
        "\n",
        "---\n",
        "\n",
        "### **💻 Módulo 3: Proyecto Práctico con `proyecto.py` - 2 horas**\n",
        "Cada estudiante clonará el repositorio del profesor, hará cambios en `proyecto.py` y subirá sus modificaciones.  \n",
        "\n",
        "#### **👨‍🏫 1️⃣ Configuración del Profesor**\n",
        "**Paso 1:** Crear un repositorio en GitHub (`Programacion_Integrador`).  \n",
        "**Paso 2:** En la terminal, inicializar Git en la carpeta del proyecto:  \n",
        "```sh\n",
        "git init\n",
        "git add .\n",
        "git commit -m \"Inicializar proyecto con estructura base\"\n",
        "git branch -M main\n",
        "git remote add origin https://github.com/William-Burbano-Lima/Programacion_Integrador.git\n",
        "git push -u origin main\n",
        "```\n",
        "\n",
        "---\n",
        "\n",
        "#### **👨‍🎓 2️⃣ Configuración de los Estudiantes**\n",
        "**Paso 1:** Clonar el repositorio del profesor:  \n",
        "```sh\n",
        "git clone https://github.com/William-Burbano-Lima/Programacion_Integrador.git\n",
        "```\n",
        "**Paso 2:** Navegar a la carpeta del proyecto:  \n",
        "```sh\n",
        "cd Programacion_Integrador\n",
        "```\n",
        "**Paso 3:** Crear una nueva rama para cada estudiante:  \n",
        "```sh\n",
        "git checkout -b estudiante-[nombre]\n",
        "```\n",
        "**Paso 4:** Modificar `proyecto.py` con un mensaje de bienvenida:  \n",
        "```python\n",
        "print(\"Hola, bienvenidos al Bootcamp de Git y GitHub 🚀\")\n",
        "```\n",
        "**Paso 5:** Subir cambios al repositorio:  \n",
        "```sh\n",
        "git add .\n",
        "git commit -m \"Agregado mensaje de bienvenida por [nombre del estudiante]\"\n",
        "git push origin estudiante-[nombre]\n",
        "```\n",
        "\n",
        "---\n",
        "\n",
        "### **🔄 Módulo 4: Integración de Cambios en GitHub - 30 min**\n",
        "1️⃣ El profesor revisará los **Pull Requests** (PR) en GitHub.  \n",
        "2️⃣ Se hará un **merge** de las ramas de los estudiantes a `main`.  \n",
        "3️⃣ Todos los estudiantes deben actualizar su código con:  \n",
        "```sh\n",
        "git pull origin main\n",
        "```\n",
        "\n",
        "---\n",
        "\n",
        "### **🎯 Módulo 5: Buenas Prácticas y Conclusiones - 15 min**\n",
        "- Escribir **mensajes de commit claros**.\n",
        "- No subir archivos innecesarios (usar `.gitignore`).\n",
        "- **Actualizar (`git pull`) antes de hacer cambios**.\n",
        "- Usar **ramas** para evitar conflictos.\n",
        "\n",
        "---\n",
        "William Burbano Lima"
      ],
      "metadata": {
        "id": "-QkITNpC9p5u"
      }
    },
    {
      "cell_type": "code",
      "source": [],
      "metadata": {
        "id": "pTjxKmAq-Uek"
      },
      "execution_count": null,
      "outputs": []
    }
  ]
}